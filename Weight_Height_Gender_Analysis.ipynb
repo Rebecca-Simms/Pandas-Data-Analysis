{
 "cells": [
  {
   "cell_type": "code",
   "execution_count": 119,
   "metadata": {},
   "outputs": [],
   "source": [
    "# import packages\n",
    "import pandas as pd\n",
    "import numpy as np\n",
    "import matplotlib.pyplot as plt"
   ]
  },
  {
   "cell_type": "code",
   "execution_count": 120,
   "metadata": {},
   "outputs": [],
   "source": [
    "# Use weight-hight data in .csv file\n",
    "WeightHeightDataPath = 'weight-height.csv'"
   ]
  },
  {
   "cell_type": "code",
   "execution_count": 62,
   "metadata": {},
   "outputs": [],
   "source": [
    "WeightHightData = pd.read_csv(WeightHeightDataPath) "
   ]
  },
  {
   "cell_type": "code",
   "execution_count": 121,
   "metadata": {},
   "outputs": [
    {
     "data": {
      "text/plain": [
       "pandas.core.frame.DataFrame"
      ]
     },
     "execution_count": 121,
     "metadata": {},
     "output_type": "execute_result"
    }
   ],
   "source": [
    "# data is a DataFrame\n",
    "type(WeightHightData)"
   ]
  },
  {
   "cell_type": "code",
   "execution_count": 122,
   "metadata": {},
   "outputs": [
    {
     "data": {
      "text/html": [
       "<div>\n",
       "<style scoped>\n",
       "    .dataframe tbody tr th:only-of-type {\n",
       "        vertical-align: middle;\n",
       "    }\n",
       "\n",
       "    .dataframe tbody tr th {\n",
       "        vertical-align: top;\n",
       "    }\n",
       "\n",
       "    .dataframe thead th {\n",
       "        text-align: right;\n",
       "    }\n",
       "</style>\n",
       "<table border=\"1\" class=\"dataframe\">\n",
       "  <thead>\n",
       "    <tr style=\"text-align: right;\">\n",
       "      <th></th>\n",
       "      <th>Gender</th>\n",
       "      <th>Height</th>\n",
       "      <th>Weight</th>\n",
       "    </tr>\n",
       "  </thead>\n",
       "  <tbody>\n",
       "    <tr>\n",
       "      <th>0</th>\n",
       "      <td>0</td>\n",
       "      <td>73.847017</td>\n",
       "      <td>241.893563</td>\n",
       "    </tr>\n",
       "    <tr>\n",
       "      <th>1</th>\n",
       "      <td>0</td>\n",
       "      <td>68.781904</td>\n",
       "      <td>162.310473</td>\n",
       "    </tr>\n",
       "    <tr>\n",
       "      <th>2</th>\n",
       "      <td>0</td>\n",
       "      <td>74.110105</td>\n",
       "      <td>212.740856</td>\n",
       "    </tr>\n",
       "    <tr>\n",
       "      <th>3</th>\n",
       "      <td>0</td>\n",
       "      <td>71.730978</td>\n",
       "      <td>220.042470</td>\n",
       "    </tr>\n",
       "    <tr>\n",
       "      <th>4</th>\n",
       "      <td>0</td>\n",
       "      <td>69.881796</td>\n",
       "      <td>206.349801</td>\n",
       "    </tr>\n",
       "  </tbody>\n",
       "</table>\n",
       "</div>"
      ],
      "text/plain": [
       "  Gender     Height      Weight\n",
       "0      0  73.847017  241.893563\n",
       "1      0  68.781904  162.310473\n",
       "2      0  74.110105  212.740856\n",
       "3      0  71.730978  220.042470\n",
       "4      0  69.881796  206.349801"
      ]
     },
     "execution_count": 122,
     "metadata": {},
     "output_type": "execute_result"
    }
   ],
   "source": [
    "# Top 5 entries\n",
    "WeightHightData.head()"
   ]
  },
  {
   "cell_type": "code",
   "execution_count": 123,
   "metadata": {},
   "outputs": [
    {
     "data": {
      "text/html": [
       "<div>\n",
       "<style scoped>\n",
       "    .dataframe tbody tr th:only-of-type {\n",
       "        vertical-align: middle;\n",
       "    }\n",
       "\n",
       "    .dataframe tbody tr th {\n",
       "        vertical-align: top;\n",
       "    }\n",
       "\n",
       "    .dataframe thead th {\n",
       "        text-align: right;\n",
       "    }\n",
       "</style>\n",
       "<table border=\"1\" class=\"dataframe\">\n",
       "  <thead>\n",
       "    <tr style=\"text-align: right;\">\n",
       "      <th></th>\n",
       "      <th>Gender</th>\n",
       "      <th>Height</th>\n",
       "      <th>Weight</th>\n",
       "    </tr>\n",
       "  </thead>\n",
       "  <tbody>\n",
       "    <tr>\n",
       "      <th>9995</th>\n",
       "      <td>1</td>\n",
       "      <td>66.172652</td>\n",
       "      <td>136.777454</td>\n",
       "    </tr>\n",
       "    <tr>\n",
       "      <th>9996</th>\n",
       "      <td>1</td>\n",
       "      <td>67.067155</td>\n",
       "      <td>170.867906</td>\n",
       "    </tr>\n",
       "    <tr>\n",
       "      <th>9997</th>\n",
       "      <td>1</td>\n",
       "      <td>63.867992</td>\n",
       "      <td>128.475319</td>\n",
       "    </tr>\n",
       "    <tr>\n",
       "      <th>9998</th>\n",
       "      <td>1</td>\n",
       "      <td>69.034243</td>\n",
       "      <td>163.852461</td>\n",
       "    </tr>\n",
       "    <tr>\n",
       "      <th>9999</th>\n",
       "      <td>1</td>\n",
       "      <td>61.944246</td>\n",
       "      <td>113.649103</td>\n",
       "    </tr>\n",
       "  </tbody>\n",
       "</table>\n",
       "</div>"
      ],
      "text/plain": [
       "     Gender     Height      Weight\n",
       "9995      1  66.172652  136.777454\n",
       "9996      1  67.067155  170.867906\n",
       "9997      1  63.867992  128.475319\n",
       "9998      1  69.034243  163.852461\n",
       "9999      1  61.944246  113.649103"
      ]
     },
     "execution_count": 123,
     "metadata": {},
     "output_type": "execute_result"
    }
   ],
   "source": [
    "# bottom 5 entries\n",
    "WeightHightData.tail()"
   ]
  },
  {
   "cell_type": "code",
   "execution_count": 124,
   "metadata": {},
   "outputs": [
    {
     "data": {
      "text/plain": [
       "(10000, 3)"
      ]
     },
     "execution_count": 124,
     "metadata": {},
     "output_type": "execute_result"
    }
   ],
   "source": [
    "# Numbers of rows and columns in DataFrame\n",
    "WeightHightData.shape"
   ]
  },
  {
   "cell_type": "code",
   "execution_count": 125,
   "metadata": {},
   "outputs": [],
   "source": [
    "# Drop rows with missing data values\n",
    "WeightHightData = WeightHightData.dropna(axis=0)"
   ]
  },
  {
   "cell_type": "code",
   "execution_count": 126,
   "metadata": {},
   "outputs": [
    {
     "data": {
      "text/plain": [
       "(10000, 3)"
      ]
     },
     "execution_count": 126,
     "metadata": {},
     "output_type": "execute_result"
    }
   ],
   "source": [
    "WeightHightData.shape"
   ]
  },
  {
   "cell_type": "code",
   "execution_count": 127,
   "metadata": {},
   "outputs": [
    {
     "data": {
      "text/html": [
       "<div>\n",
       "<style scoped>\n",
       "    .dataframe tbody tr th:only-of-type {\n",
       "        vertical-align: middle;\n",
       "    }\n",
       "\n",
       "    .dataframe tbody tr th {\n",
       "        vertical-align: top;\n",
       "    }\n",
       "\n",
       "    .dataframe thead th {\n",
       "        text-align: right;\n",
       "    }\n",
       "</style>\n",
       "<table border=\"1\" class=\"dataframe\">\n",
       "  <thead>\n",
       "    <tr style=\"text-align: right;\">\n",
       "      <th></th>\n",
       "      <th>Height</th>\n",
       "      <th>Weight</th>\n",
       "    </tr>\n",
       "  </thead>\n",
       "  <tbody>\n",
       "    <tr>\n",
       "      <th>count</th>\n",
       "      <td>10000.000000</td>\n",
       "      <td>10000.000000</td>\n",
       "    </tr>\n",
       "    <tr>\n",
       "      <th>mean</th>\n",
       "      <td>66.367560</td>\n",
       "      <td>161.440357</td>\n",
       "    </tr>\n",
       "    <tr>\n",
       "      <th>std</th>\n",
       "      <td>3.847528</td>\n",
       "      <td>32.108439</td>\n",
       "    </tr>\n",
       "    <tr>\n",
       "      <th>min</th>\n",
       "      <td>54.263133</td>\n",
       "      <td>64.700127</td>\n",
       "    </tr>\n",
       "    <tr>\n",
       "      <th>25%</th>\n",
       "      <td>63.505620</td>\n",
       "      <td>135.818051</td>\n",
       "    </tr>\n",
       "    <tr>\n",
       "      <th>50%</th>\n",
       "      <td>66.318070</td>\n",
       "      <td>161.212928</td>\n",
       "    </tr>\n",
       "    <tr>\n",
       "      <th>75%</th>\n",
       "      <td>69.174262</td>\n",
       "      <td>187.169525</td>\n",
       "    </tr>\n",
       "    <tr>\n",
       "      <th>max</th>\n",
       "      <td>78.998742</td>\n",
       "      <td>269.989699</td>\n",
       "    </tr>\n",
       "  </tbody>\n",
       "</table>\n",
       "</div>"
      ],
      "text/plain": [
       "             Height        Weight\n",
       "count  10000.000000  10000.000000\n",
       "mean      66.367560    161.440357\n",
       "std        3.847528     32.108439\n",
       "min       54.263133     64.700127\n",
       "25%       63.505620    135.818051\n",
       "50%       66.318070    161.212928\n",
       "75%       69.174262    187.169525\n",
       "max       78.998742    269.989699"
      ]
     },
     "execution_count": 127,
     "metadata": {},
     "output_type": "execute_result"
    }
   ],
   "source": [
    "# It turns out there is no missing data!\n",
    "WeightHightData.describe()"
   ]
  },
  {
   "cell_type": "code",
   "execution_count": 128,
   "metadata": {},
   "outputs": [
    {
     "data": {
      "image/png": "[encoded data removed]",
      "text/plain": [
       "<Figure size 432x288 with 1 Axes>"
      ]
     },
     "metadata": {},
     "output_type": "display_data"
    }
   ],
   "source": [
    "# Have mean, std, max, min and so on of height and weight columns. \n",
    "# Can also get an initial idea of what the data looks like by plotting a scatter plot of weight v height\n",
    "# red dots are male, green are female\n",
    "i = WeightHightData['Height']\n",
    "j = WeightHightData['Weight']\n",
    "male = i[0:100]\n",
    "female = i[5001:5101]\n",
    "wm = j[0:100]\n",
    "wf = j[5001:5101]\n",
    "plt.scatter(male,wm, color='r')\n",
    "plt.scatter(female,wf,color='g')\n",
    "plt.xlabel('Height')\n",
    "plt.ylabel('Weight')\n",
    "plt.show()"
   ]
  },
  {
   "cell_type": "code",
   "execution_count": 129,
   "metadata": {},
   "outputs": [
    {
     "data": {
      "text/html": [
       "<div>\n",
       "<style scoped>\n",
       "    .dataframe tbody tr th:only-of-type {\n",
       "        vertical-align: middle;\n",
       "    }\n",
       "\n",
       "    .dataframe tbody tr th {\n",
       "        vertical-align: top;\n",
       "    }\n",
       "\n",
       "    .dataframe thead th {\n",
       "        text-align: right;\n",
       "    }\n",
       "</style>\n",
       "<table border=\"1\" class=\"dataframe\">\n",
       "  <thead>\n",
       "    <tr style=\"text-align: right;\">\n",
       "      <th></th>\n",
       "      <th>Gender</th>\n",
       "      <th>Height</th>\n",
       "      <th>Weight</th>\n",
       "    </tr>\n",
       "  </thead>\n",
       "  <tbody>\n",
       "    <tr>\n",
       "      <th>336</th>\n",
       "      <td>0</td>\n",
       "      <td>69.692422</td>\n",
       "      <td>211.718429</td>\n",
       "    </tr>\n",
       "    <tr>\n",
       "      <th>1496</th>\n",
       "      <td>0</td>\n",
       "      <td>69.633162</td>\n",
       "      <td>189.651557</td>\n",
       "    </tr>\n",
       "    <tr>\n",
       "      <th>6639</th>\n",
       "      <td>1</td>\n",
       "      <td>62.730459</td>\n",
       "      <td>110.242111</td>\n",
       "    </tr>\n",
       "    <tr>\n",
       "      <th>3869</th>\n",
       "      <td>0</td>\n",
       "      <td>66.324954</td>\n",
       "      <td>166.615538</td>\n",
       "    </tr>\n",
       "    <tr>\n",
       "      <th>3873</th>\n",
       "      <td>0</td>\n",
       "      <td>65.641749</td>\n",
       "      <td>156.288168</td>\n",
       "    </tr>\n",
       "    <tr>\n",
       "      <th>747</th>\n",
       "      <td>0</td>\n",
       "      <td>65.440922</td>\n",
       "      <td>144.132027</td>\n",
       "    </tr>\n",
       "    <tr>\n",
       "      <th>8439</th>\n",
       "      <td>1</td>\n",
       "      <td>66.559796</td>\n",
       "      <td>162.676838</td>\n",
       "    </tr>\n",
       "    <tr>\n",
       "      <th>8925</th>\n",
       "      <td>1</td>\n",
       "      <td>65.923586</td>\n",
       "      <td>168.796481</td>\n",
       "    </tr>\n",
       "    <tr>\n",
       "      <th>1566</th>\n",
       "      <td>0</td>\n",
       "      <td>66.574887</td>\n",
       "      <td>163.241255</td>\n",
       "    </tr>\n",
       "    <tr>\n",
       "      <th>8248</th>\n",
       "      <td>1</td>\n",
       "      <td>60.179112</td>\n",
       "      <td>97.261313</td>\n",
       "    </tr>\n",
       "  </tbody>\n",
       "</table>\n",
       "</div>"
      ],
      "text/plain": [
       "     Gender     Height      Weight\n",
       "336       0  69.692422  211.718429\n",
       "1496      0  69.633162  189.651557\n",
       "6639      1  62.730459  110.242111\n",
       "3869      0  66.324954  166.615538\n",
       "3873      0  65.641749  156.288168\n",
       "747       0  65.440922  144.132027\n",
       "8439      1  66.559796  162.676838\n",
       "8925      1  65.923586  168.796481\n",
       "1566      0  66.574887  163.241255\n",
       "8248      1  60.179112   97.261313"
      ]
     },
     "execution_count": 129,
     "metadata": {},
     "output_type": "execute_result"
    }
   ],
   "source": [
    "# Column 'Gender' is categorial - not easy to put into machine learning algorithms like Linear Regression. \n",
    "# So change 'Male' to 0 and 'Female' to 1\n",
    "WeightHightData = WeightHightData.replace('Male','0')\n",
    "WeightHightData = WeightHightData.replace('Female','1')\n",
    "WeightHightData.sample(10)"
   ]
  },
  {
   "cell_type": "code",
   "execution_count": 130,
   "metadata": {},
   "outputs": [
    {
     "data": {
      "text/plain": [
       "Index(['Gender', 'Height', 'Weight'], dtype='object')"
      ]
     },
     "execution_count": 130,
     "metadata": {},
     "output_type": "execute_result"
    }
   ],
   "source": [
    "WeightHightData.columns"
   ]
  },
  {
   "cell_type": "code",
   "execution_count": 131,
   "metadata": {},
   "outputs": [],
   "source": [
    "# Set feature columns\n",
    "feature_columns = ['Height', 'Weight']"
   ]
  },
  {
   "cell_type": "code",
   "execution_count": 132,
   "metadata": {},
   "outputs": [],
   "source": [
    "# Set features X and target y\n",
    "X = WeightHightData[feature_columns]\n",
    "y = WeightHightData.Gender"
   ]
  },
  {
   "cell_type": "code",
   "execution_count": 133,
   "metadata": {},
   "outputs": [],
   "source": [
    "# Want to split the data into train and test for accuracy\n",
    "from sklearn.model_selection import train_test_split\n",
    "X_train, X_test, y_train, y_test = train_test_split(X, y, test_size = 0.3, random_state=0)"
   ]
  },
  {
   "cell_type": "code",
   "execution_count": 134,
   "metadata": {},
   "outputs": [],
   "source": [
    "# Begin by looking at Linear Regression model\n",
    "from sklearn.linear_model import LinearRegression"
   ]
  },
  {
   "cell_type": "code",
   "execution_count": 135,
   "metadata": {},
   "outputs": [],
   "source": [
    "reg = LinearRegression().fit(X_train, y_train)"
   ]
  },
  {
   "cell_type": "code",
   "execution_count": 136,
   "metadata": {},
   "outputs": [
    {
     "data": {
      "text/plain": [
       "0.5348592678368422"
      ]
     },
     "execution_count": 136,
     "metadata": {},
     "output_type": "execute_result"
    }
   ],
   "source": [
    "# Intercept value \n",
    "reg.intercept_"
   ]
  },
  {
   "cell_type": "code",
   "execution_count": 137,
   "metadata": {},
   "outputs": [
    {
     "data": {
      "text/plain": [
       "array([ 0.04085285, -0.01699479])"
      ]
     },
     "execution_count": 137,
     "metadata": {},
     "output_type": "execute_result"
    }
   ],
   "source": [
    "# Coefficient for the two variables 'Male' = 0 and 'Female' = 1\n",
    "reg.coef_"
   ]
  },
  {
   "cell_type": "code",
   "execution_count": 150,
   "metadata": {},
   "outputs": [
    {
     "data": {
      "text/plain": [
       "array([ 0.83227583,  0.09891919, -0.10068151, ...,  1.05913194,\n",
       "        0.8104003 ,  0.67213455])"
      ]
     },
     "execution_count": 150,
     "metadata": {},
     "output_type": "execute_result"
    }
   ],
   "source": [
    "linear_predictions = reg.predict(X_test)\n",
    "linear_predictions"
   ]
  },
  {
   "cell_type": "code",
   "execution_count": 138,
   "metadata": {},
   "outputs": [
    {
     "data": {
      "text/plain": [
       "0.08676099840733661"
      ]
     },
     "execution_count": 138,
     "metadata": {},
     "output_type": "execute_result"
    }
   ],
   "source": [
    "# So y = 0.5349 + 0.0409'Male' - 0.0169'Female'\n",
    "# Goodness of fit - How well does the regression line above fit the training data?\n",
    "from sklearn.metrics import mean_squared_error\n",
    "MSE=mean_squared_error(y_train, reg.predict(X_train))\n",
    "MSE"
   ]
  },
  {
   "cell_type": "code",
   "execution_count": 158,
   "metadata": {},
   "outputs": [
    {
     "data": {
      "text/plain": [
       "0.08993268563674349"
      ]
     },
     "execution_count": 158,
     "metadata": {},
     "output_type": "execute_result"
    }
   ],
   "source": [
    "# error in predictions\n",
    "MSE = mean_squared_error(y_test, reg.predict(X_test))\n",
    "MSE"
   ]
  },
  {
   "cell_type": "code",
   "execution_count": 159,
   "metadata": {},
   "outputs": [
    {
     "name": "stdout",
     "output_type": "stream",
     "text": [
      "R^2 train: 0.653, test: 0.640\n"
     ]
    }
   ],
   "source": [
    "# R^2 score\n",
    "from sklearn.metrics import r2_score\n",
    "print('R^2 train: %.3f, test: %.3f' %(r2_score(y_train, reg.predict(X_train)), r2_score(y_test, reg.predict(X_test))))"
   ]
  },
  {
   "cell_type": "code",
   "execution_count": 161,
   "metadata": {},
   "outputs": [],
   "source": [
    "# Now use KNN algorithm"
   ]
  },
  {
   "cell_type": "code",
   "execution_count": 162,
   "metadata": {},
   "outputs": [],
   "source": [
    "from sklearn.neighbors import KNeighborsClassifier\n",
    "knn = KNeighborsClassifier(n_neighbors=10)"
   ]
  },
  {
   "cell_type": "code",
   "execution_count": 163,
   "metadata": {},
   "outputs": [
    {
     "data": {
      "text/plain": [
       "KNeighborsClassifier(algorithm='auto', leaf_size=30, metric='minkowski',\n",
       "           metric_params=None, n_jobs=1, n_neighbors=10, p=2,\n",
       "           weights='uniform')"
      ]
     },
     "execution_count": 163,
     "metadata": {},
     "output_type": "execute_result"
    }
   ],
   "source": [
    "knn.fit(X_train,y_train)"
   ]
  },
  {
   "cell_type": "code",
   "execution_count": 164,
   "metadata": {},
   "outputs": [
    {
     "data": {
      "text/plain": [
       "numpy.ndarray"
      ]
     },
     "execution_count": 164,
     "metadata": {},
     "output_type": "execute_result"
    }
   ],
   "source": [
    "prediction = knn.predict(X_test)\n",
    "type(prediction)"
   ]
  },
  {
   "cell_type": "code",
   "execution_count": 165,
   "metadata": {},
   "outputs": [
    {
     "data": {
      "text/plain": [
       "array(['1', '0', '0', ..., '1', '1', '1'], dtype=object)"
      ]
     },
     "execution_count": 165,
     "metadata": {},
     "output_type": "execute_result"
    }
   ],
   "source": [
    "prediction"
   ]
  },
  {
   "cell_type": "code",
   "execution_count": 166,
   "metadata": {},
   "outputs": [
    {
     "data": {
      "text/plain": [
       "array([0.94326241, 0.88652482, 0.90780142, 0.92198582, 0.87943262,\n",
       "       0.88652482, 0.88652482, 0.87943262, 0.86524823, 0.92907801,\n",
       "       0.92907801, 0.91428571, 0.96428571, 0.92142857, 0.89285714,\n",
       "       0.92857143, 0.92857143, 0.89285714, 0.94285714, 0.91428571,\n",
       "       0.93571429, 0.90714286, 0.88571429, 0.92142857, 0.91428571,\n",
       "       0.91428571, 0.93571429, 0.93571429, 0.92142857, 0.93571429,\n",
       "       0.9       , 0.9       , 0.93571429, 0.93571429, 0.85      ,\n",
       "       0.93571429, 0.91428571, 0.94285714, 0.91428571, 0.92805755,\n",
       "       0.91366906, 0.82014388, 0.90647482, 0.91366906, 0.94244604,\n",
       "       0.94964029, 0.9352518 , 0.86330935, 0.94244604, 0.90647482])"
      ]
     },
     "execution_count": 166,
     "metadata": {},
     "output_type": "execute_result"
    }
   ],
   "source": [
    "from sklearn.model_selection import cross_val_score\n",
    "knn = KNeighborsClassifier(n_neighbors=10)\n",
    "scores = cross_val_score(knn, X_train, y_train, cv=50, scoring='accuracy')\n",
    "scores"
   ]
  },
  {
   "cell_type": "code",
   "execution_count": 167,
   "metadata": {},
   "outputs": [
    {
     "data": {
      "text/plain": [
       "0.9134438127309703"
      ]
     },
     "execution_count": 167,
     "metadata": {},
     "output_type": "execute_result"
    }
   ],
   "source": [
    "scores.mean()"
   ]
  },
  {
   "cell_type": "code",
   "execution_count": 168,
   "metadata": {},
   "outputs": [
    {
     "data": {
      "text/plain": [
       "0.913"
      ]
     },
     "execution_count": 168,
     "metadata": {},
     "output_type": "execute_result"
    }
   ],
   "source": [
    "from sklearn import metrics\n",
    "metrics.accuracy_score(y_test, prediction)"
   ]
  },
  {
   "cell_type": "code",
   "execution_count": 169,
   "metadata": {},
   "outputs": [],
   "source": [
    "knn_dict = {}"
   ]
  },
  {
   "cell_type": "code",
   "execution_count": 170,
   "metadata": {},
   "outputs": [],
   "source": [
    "for i in range (2, 51):\n",
    "    knn = KNeighborsClassifier(n_neighbors=i)\n",
    "    knn.fit(X_train,y_train)\n",
    "    prediction = knn.predict(X_test)\n",
    "    knn_dict[i] = prediction"
   ]
  },
  {
   "cell_type": "code",
   "execution_count": 171,
   "metadata": {},
   "outputs": [
    {
     "data": {
      "text/plain": [
       "{2: array(['1', '0', '0', ..., '1', '1', '1'], dtype=object),\n",
       " 3: array(['1', '0', '0', ..., '1', '1', '1'], dtype=object),\n",
       " 4: array(['1', '0', '0', ..., '1', '1', '1'], dtype=object),\n",
       " 5: array(['1', '0', '0', ..., '1', '1', '1'], dtype=object),\n",
       " 6: array(['1', '0', '0', ..., '1', '1', '1'], dtype=object),\n",
       " 7: array(['1', '0', '0', ..., '1', '1', '1'], dtype=object),\n",
       " 8: array(['1', '0', '0', ..., '1', '1', '1'], dtype=object),\n",
       " 9: array(['1', '0', '0', ..., '1', '1', '1'], dtype=object),\n",
       " 10: array(['1', '0', '0', ..., '1', '1', '1'], dtype=object),\n",
       " 11: array(['1', '0', '0', ..., '1', '1', '1'], dtype=object),\n",
       " 12: array(['1', '0', '0', ..., '1', '1', '1'], dtype=object),\n",
       " 13: array(['1', '0', '0', ..., '1', '1', '1'], dtype=object),\n",
       " 14: array(['1', '0', '0', ..., '1', '1', '1'], dtype=object),\n",
       " 15: array(['1', '0', '0', ..., '1', '1', '1'], dtype=object),\n",
       " 16: array(['1', '0', '0', ..., '1', '1', '1'], dtype=object),\n",
       " 17: array(['1', '0', '0', ..., '1', '1', '1'], dtype=object),\n",
       " 18: array(['1', '0', '0', ..., '1', '1', '1'], dtype=object),\n",
       " 19: array(['1', '0', '0', ..., '1', '1', '1'], dtype=object),\n",
       " 20: array(['1', '0', '0', ..., '1', '1', '1'], dtype=object),\n",
       " 21: array(['1', '0', '0', ..., '1', '1', '1'], dtype=object),\n",
       " 22: array(['1', '0', '0', ..., '1', '1', '1'], dtype=object),\n",
       " 23: array(['1', '0', '0', ..., '1', '1', '1'], dtype=object),\n",
       " 24: array(['1', '0', '0', ..., '1', '1', '1'], dtype=object),\n",
       " 25: array(['1', '0', '0', ..., '1', '1', '1'], dtype=object),\n",
       " 26: array(['1', '0', '0', ..., '1', '1', '1'], dtype=object),\n",
       " 27: array(['1', '0', '0', ..., '1', '1', '1'], dtype=object),\n",
       " 28: array(['1', '0', '0', ..., '1', '1', '1'], dtype=object),\n",
       " 29: array(['1', '0', '0', ..., '1', '1', '1'], dtype=object),\n",
       " 30: array(['1', '0', '0', ..., '1', '1', '1'], dtype=object),\n",
       " 31: array(['1', '0', '0', ..., '1', '1', '1'], dtype=object),\n",
       " 32: array(['1', '0', '0', ..., '1', '1', '1'], dtype=object),\n",
       " 33: array(['1', '0', '0', ..., '1', '1', '1'], dtype=object),\n",
       " 34: array(['1', '0', '0', ..., '1', '1', '1'], dtype=object),\n",
       " 35: array(['1', '0', '0', ..., '1', '1', '1'], dtype=object),\n",
       " 36: array(['1', '0', '0', ..., '1', '1', '1'], dtype=object),\n",
       " 37: array(['1', '0', '0', ..., '1', '1', '1'], dtype=object),\n",
       " 38: array(['1', '0', '0', ..., '1', '1', '1'], dtype=object),\n",
       " 39: array(['1', '0', '0', ..., '1', '1', '1'], dtype=object),\n",
       " 40: array(['1', '0', '0', ..., '1', '1', '1'], dtype=object),\n",
       " 41: array(['1', '0', '0', ..., '1', '1', '1'], dtype=object),\n",
       " 42: array(['1', '0', '0', ..., '1', '1', '1'], dtype=object),\n",
       " 43: array(['1', '0', '0', ..., '1', '1', '1'], dtype=object),\n",
       " 44: array(['1', '0', '0', ..., '1', '1', '1'], dtype=object),\n",
       " 45: array(['1', '0', '0', ..., '1', '1', '1'], dtype=object),\n",
       " 46: array(['1', '0', '0', ..., '1', '1', '1'], dtype=object),\n",
       " 47: array(['1', '0', '0', ..., '1', '1', '1'], dtype=object),\n",
       " 48: array(['1', '0', '0', ..., '1', '1', '1'], dtype=object),\n",
       " 49: array(['1', '0', '0', ..., '1', '1', '1'], dtype=object),\n",
       " 50: array(['1', '0', '0', ..., '1', '1', '1'], dtype=object)}"
      ]
     },
     "execution_count": 171,
     "metadata": {},
     "output_type": "execute_result"
    }
   ],
   "source": [
    "knn_dict"
   ]
  },
  {
   "cell_type": "code",
   "execution_count": 175,
   "metadata": {},
   "outputs": [
    {
     "data": {
      "text/plain": [
       "[0.9137154752210865,\n",
       " 0.9122864944622335,\n",
       " 0.9134285352768942,\n",
       " 0.9139997606409109,\n",
       " 0.9145711892123396,\n",
       " 0.912999760640911,\n",
       " 0.9145711892123396,\n",
       " 0.9147136381910984,\n",
       " 0.9154283320694823,\n",
       " 0.9145707810482412,\n",
       " 0.9151422096196699,\n",
       " 0.9149993524768126,\n",
       " 0.9159999655975973,\n",
       " 0.91628506792871,\n",
       " 0.915856904664237,\n",
       " 0.9158571090378318,\n",
       " 0.9162860892135933,\n",
       " 0.9151428227404544,\n",
       " 0.916428538192352,\n",
       " 0.9162856804664032,\n",
       " 0.9164287413997638,\n",
       " 0.9157144556854782,\n",
       " 0.9162860892135933,\n",
       " 0.9144291489807704,\n",
       " 0.9157144562685697,\n",
       " 0.9149997623901855,\n",
       " 0.9161422119520359,\n",
       " 0.9152856810494949,\n",
       " 0.9157142524780664,\n",
       " 0.9160001711373754,\n",
       " 0.9162856816325865,\n",
       " 0.9161424151594477,\n",
       " 0.9165711915447059,\n",
       " 0.915713844313968,\n",
       " 0.9152854772589916,\n",
       " 0.9152854766758999,\n",
       " 0.9157142530611578,\n",
       " 0.9161428239066378,\n",
       " 0.9157144568516612,\n",
       " 0.9158571096209235,\n",
       " 0.9162856816325865,\n",
       " 0.9165716002918955,\n",
       " 0.9162854778420831,\n",
       " 0.9159999667637806,\n",
       " 0.9158573139945185,\n",
       " 0.9167146606421646,\n",
       " 0.91628588542309,\n",
       " 0.9165715997088041,\n",
       " 0.9161428244897293,\n",
       " 0.9164283344018486,\n",
       " 0.9165713959183008,\n",
       " 0.9159997629732771,\n",
       " 0.9162854772589915,\n",
       " 0.9161426201161345,\n",
       " 0.9172856816325865,\n",
       " 0.9162852728853965,\n",
       " 0.916714253061158,\n",
       " 0.9167140486875629,\n",
       " 0.9167142530611578,\n",
       " 0.9159997629732771,\n",
       " 0.9159999673468722,\n",
       " 0.9161424157425394,\n",
       " 0.9162854772589915,\n",
       " 0.915713844313968,\n",
       " 0.9164287431490384,\n",
       " 0.9162854772589915,\n",
       " 0.9164285387754436,\n",
       " 0.9159995585996823,\n",
       " 0.9159997629732771,\n",
       " 0.9157136399403731,\n",
       " 0.9158564970832301,\n",
       " 0.9155707827975158,\n",
       " 0.9158567014568252,\n",
       " 0.9154279250715671,\n",
       " 0.9158564970832301,\n",
       " 0.9157138437308763,\n",
       " 0.9158569052473287,\n",
       " 0.9162850685118016,\n",
       " 0.9158562932927268,\n",
       " 0.9158564970832301,\n",
       " 0.9159993548091789,\n",
       " 0.9161422119520362,\n",
       " 0.9159993548091789,\n",
       " 0.9158564976663218,\n",
       " 0.9155709871711109,\n",
       " 0.9155707827975158,\n",
       " 0.9155707827975158,\n",
       " 0.9157136399403731,\n",
       " 0.9157136399403729,\n",
       " 0.9158567008737334]"
      ]
     },
     "execution_count": 175,
     "metadata": {},
     "output_type": "execute_result"
    }
   ],
   "source": [
    "k_range = range(10,100)\n",
    "k_scores = []\n",
    "for k in k_range:\n",
    "  knn = KNeighborsClassifier(n_neighbors = k)\n",
    "  scores = cross_val_score(knn, X_train, y_train, cv=10, scoring='accuracy')\n",
    "  k_scores.append(scores.mean())\n",
    "\n",
    "k_scores"
   ]
  },
  {
   "cell_type": "code",
   "execution_count": 176,
   "metadata": {},
   "outputs": [
    {
     "data": {
      "text/plain": [
       "Text(0,0.5,'Mean accuracy scores')"
      ]
     },
     "execution_count": 176,
     "metadata": {},
     "output_type": "execute_result"
    },
    {
     "data": {
      "image/png": "[encoded data removed]",
      "text/plain": [
       "<Figure size 432x288 with 1 Axes>"
      ]
     },
     "metadata": {},
     "output_type": "display_data"
    }
   ],
   "source": [
    "plt.plot(k_range, k_scores)\n",
    "\n",
    "plt.xlabel('K value for KNN algorithm')\n",
    "plt.ylabel('Mean accuracy scores')"
   ]
  },
  {
   "cell_type": "code",
   "execution_count": 177,
   "metadata": {},
   "outputs": [],
   "source": [
    "# Choise of k for KNN was just to see what would happen. Here k~62 seems to be the optimal number of neighbours. "
   ]
  },
  {
   "cell_type": "code",
   "execution_count": null,
   "metadata": {},
   "outputs": [],
   "source": []
  }
 ],
 "metadata": {
  "kernelspec": {
   "display_name": "Python 3",
   "language": "python",
   "name": "python3"
  },
  "language_info": {
   "codemirror_mode": {
    "name": "ipython",
    "version": 3
   },
   "file_extension": ".py",
   "mimetype": "text/x-python",
   "name": "python",
   "nbconvert_exporter": "python",
   "pygments_lexer": "ipython3",
   "version": "3.6.5"
  }
 },
 "nbformat": 4,
 "nbformat_minor": 2
}
